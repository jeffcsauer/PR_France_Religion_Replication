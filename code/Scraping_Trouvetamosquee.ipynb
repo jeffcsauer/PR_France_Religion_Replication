{
 "cells": [
  {
   "cell_type": "code",
   "execution_count": 1,
   "metadata": {},
   "outputs": [],
   "source": [
    "# Load necessary modules\n",
    "import requests\n",
    "from bs4 import BeautifulSoup\n",
    "import re\n",
    "import numpy as np\n",
    "import pandas as pd\n",
    "import io"
   ]
  },
  {
   "cell_type": "code",
   "execution_count": 2,
   "metadata": {},
   "outputs": [],
   "source": [
    "BaseURL = \"https://www.trouvetamosquee.fr/category/mosquees-de-france/\""
   ]
  },
  {
   "cell_type": "markdown",
   "metadata": {},
   "source": [
    "Load base URL"
   ]
  },
  {
   "cell_type": "code",
   "execution_count": 3,
   "metadata": {},
   "outputs": [],
   "source": [
    "page = requests.get(BaseURL)\n",
    "soup = BeautifulSoup(page.content, 'html.parser')"
   ]
  },
  {
   "cell_type": "markdown",
   "metadata": {},
   "source": [
    "Strange nesting of divs and hrefs, so we extract all divs for the region-details block, and then parse the html to get the link to each department."
   ]
  },
  {
   "cell_type": "code",
   "execution_count": 4,
   "metadata": {},
   "outputs": [],
   "source": [
    "DeptHtml = soup.find_all('div', {'class': 'region-details'})"
   ]
  },
  {
   "cell_type": "code",
   "execution_count": 5,
   "metadata": {},
   "outputs": [],
   "source": [
    "urls = []\n",
    "\n",
    "for i in range(len(DeptHtml)):\n",
    "    urls.append(re.findall(\"(?P<url>https?://[^\\s]+)\", str(DeptHtml[i])))"
   ]
  },
  {
   "cell_type": "markdown",
   "metadata": {},
   "source": [
    "Flatten into a single list"
   ]
  },
  {
   "cell_type": "code",
   "execution_count": 6,
   "metadata": {},
   "outputs": [],
   "source": [
    "urlsf = [item for sublist in urls for item in sublist]"
   ]
  },
  {
   "cell_type": "markdown",
   "metadata": {},
   "source": [
    "Need to loop through each url in the flattened list, extract some data, convert to dataframe, and move on. "
   ]
  },
  {
   "cell_type": "code",
   "execution_count": 12,
   "metadata": {},
   "outputs": [],
   "source": [
    "# create an empty df\n",
    "df = pd.DataFrame()\n",
    "\n",
    "# run loop\n",
    "for i in urlsf:\n",
    "    page = requests.get(i)\n",
    "    soup = BeautifulSoup(page.content, 'html.parser')\n",
    "    \n",
    "    # Get mosque names\n",
    "    NameTags = soup.find_all('h2')\n",
    "    Names = []\n",
    "\n",
    "    for z in range(len(NameTags)):\n",
    "        Names.append(NameTags[z].get_text())\n",
    "        \n",
    "    # Get mosque addresses\n",
    "    AddressTags = soup.find_all('h3', class_=\"address\")\n",
    "    Addresses = []\n",
    "\n",
    "    for i in range(len(AddressTags)):\n",
    "        Addresses.append(AddressTags[i].get_text())\n",
    "\n",
    "    # Construct df\n",
    "    TempDF = pd.DataFrame({\n",
    "        'MosqueName': Names, \n",
    "        'MosqueAddress': Addresses\n",
    "    })\n",
    "    \n",
    "    df = pd.concat([df, TempDF], sort = False)"
   ]
  },
  {
   "cell_type": "code",
   "execution_count": 13,
   "metadata": {},
   "outputs": [
    {
     "data": {
      "text/plain": [
       "(2452, 2)"
      ]
     },
     "execution_count": 13,
     "metadata": {},
     "output_type": "execute_result"
    }
   ],
   "source": [
    "df.shape"
   ]
  },
  {
   "cell_type": "code",
   "execution_count": 14,
   "metadata": {},
   "outputs": [
    {
     "data": {
      "text/html": [
       "<div>\n",
       "<style scoped>\n",
       "    .dataframe tbody tr th:only-of-type {\n",
       "        vertical-align: middle;\n",
       "    }\n",
       "\n",
       "    .dataframe tbody tr th {\n",
       "        vertical-align: top;\n",
       "    }\n",
       "\n",
       "    .dataframe thead th {\n",
       "        text-align: right;\n",
       "    }\n",
       "</style>\n",
       "<table border=\"1\" class=\"dataframe\">\n",
       "  <thead>\n",
       "    <tr style=\"text-align: right;\">\n",
       "      <th></th>\n",
       "      <th>MosqueName</th>\n",
       "      <th>MosqueAddress</th>\n",
       "    </tr>\n",
       "  </thead>\n",
       "  <tbody>\n",
       "    <tr>\n",
       "      <th>0</th>\n",
       "      <td>Grand Mosquée de Strasbourg</td>\n",
       "      <td>6 Rue Averroès - 67000 STRASBOURG</td>\n",
       "    </tr>\n",
       "    <tr>\n",
       "      <th>1</th>\n",
       "      <td>MOSQUEE DITIB YUNUS EMRE</td>\n",
       "      <td>3 rue Thomas Mann - 67200 STRASBOURG</td>\n",
       "    </tr>\n",
       "    <tr>\n",
       "      <th>2</th>\n",
       "      <td>Mosquée Yunus Merer (DITIB)</td>\n",
       "      <td>38 routes de Rohrwiller - 67240 BISCHWILLER</td>\n",
       "    </tr>\n",
       "    <tr>\n",
       "      <th>3</th>\n",
       "      <td>Mosquée de Hautepierre</td>\n",
       "      <td>11 Rue Alexandre Dumas - 67200 STRASBOURG</td>\n",
       "    </tr>\n",
       "    <tr>\n",
       "      <th>4</th>\n",
       "      <td>Grande Mosquée de Strasbourg</td>\n",
       "      <td>6 Rue Averroès - 67000 STRASBOURG</td>\n",
       "    </tr>\n",
       "  </tbody>\n",
       "</table>\n",
       "</div>"
      ],
      "text/plain": [
       "                     MosqueName                                MosqueAddress\n",
       "0   Grand Mosquée de Strasbourg            6 Rue Averroès - 67000 STRASBOURG\n",
       "1      MOSQUEE DITIB YUNUS EMRE         3 rue Thomas Mann - 67200 STRASBOURG\n",
       "2  Mosquée Yunus Merer (DITIB)   38 routes de Rohrwiller - 67240 BISCHWILLER\n",
       "3        Mosquée de Hautepierre    11 Rue Alexandre Dumas - 67200 STRASBOURG\n",
       "4  Grande Mosquée de Strasbourg            6 Rue Averroès - 67000 STRASBOURG"
      ]
     },
     "execution_count": 14,
     "metadata": {},
     "output_type": "execute_result"
    }
   ],
   "source": [
    "df.head()"
   ]
  },
  {
   "cell_type": "markdown",
   "metadata": {},
   "source": [
    "Save the dataset for future geocoding."
   ]
  },
  {
   "cell_type": "code",
   "execution_count": null,
   "metadata": {},
   "outputs": [],
   "source": [
    "df.to_csv('../data/to_scrape/CatholicDirectoryScrape.csv')df.to_csv('../data/raw/Mosques/trouvetamosquee_scrape.csv')"
   ]
  }
 ],
 "metadata": {
  "kernelspec": {
   "display_name": "Python 3",
   "language": "python",
   "name": "python3"
  },
  "language_info": {
   "codemirror_mode": {
    "name": "ipython",
    "version": 3
   },
   "file_extension": ".py",
   "mimetype": "text/x-python",
   "name": "python",
   "nbconvert_exporter": "python",
   "pygments_lexer": "ipython3",
   "version": "3.8.8"
  }
 },
 "nbformat": 4,
 "nbformat_minor": 4
}
